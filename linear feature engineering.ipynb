{
 "cells": [
  {
   "cell_type": "code",
   "execution_count": null,
   "id": "8ff6ba32",
   "metadata": {
    "pycharm": {
     "name": "#%%\n"
    }
   },
   "outputs": [],
   "source": [
    "import itertools\n",
    "\n",
    "import numpy as np\n",
    "import pandas as pd\n",
    "\n",
    "from sklearn.preprocessing import PolynomialFeatures"
   ]
  },
  {
   "cell_type": "markdown",
   "id": "321235b4",
   "metadata": {
    "pycharm": {
     "name": "#%% md\n"
    }
   },
   "source": [
    "### Data"
   ]
  },
  {
   "cell_type": "code",
   "execution_count": null,
   "id": "6236bc5a",
   "metadata": {
    "pycharm": {
     "name": "#%%\n"
    }
   },
   "outputs": [],
   "source": [
    "def read_data():\n",
    "    df_train = pd.read_csv(\"traindata.txt\", sep=\"   \", names=range(9), engine=\"python\")\n",
    "    df_train = df_train.sample(len(df_train))\n",
    "    X_train = df_train.iloc[:, :-1].values\n",
    "    y_train = df_train.iloc[:, -1].values.reshape(-1, 1)\n",
    "\n",
    "    X_test = pd.read_csv(\"testinputs.txt\", sep=\"   \", names=range(8), engine=\"python\").values\n",
    "    return X_train, y_train, X_test"
   ]
  },
  {
   "cell_type": "markdown",
   "id": "1da84278",
   "metadata": {
    "pycharm": {
     "name": "#%% md\n"
    }
   },
   "source": [
    "### model_fit"
   ]
  },
  {
   "cell_type": "code",
   "execution_count": null,
   "id": "3f658265",
   "metadata": {
    "pycharm": {
     "name": "#%%\n"
    }
   },
   "outputs": [],
   "source": [
    "def model_fit(Z, y):\n",
    "    w = np.linalg.inv(Z.T @ Z) @ (Z.T @ y)\n",
    "#     w, *_ = np.linalg.lstsq(Z.T @ Z, (Z.T @ y), rcond=None)\n",
    "    return w"
   ]
  },
  {
   "cell_type": "markdown",
   "id": "ecf58739",
   "metadata": {
    "pycharm": {
     "name": "#%% md\n"
    }
   },
   "source": [
    "### cross validation"
   ]
  },
  {
   "cell_type": "code",
   "execution_count": null,
   "id": "0f2d2d2e",
   "metadata": {
    "pycharm": {
     "name": "#%%\n"
    }
   },
   "outputs": [],
   "source": [
    "def cross_validation(Z, y, K):\n",
    "    chunk_length = len(Z) // K\n",
    "\n",
    "    R_cross_eval = 0\n",
    "\n",
    "    for k in range(K):\n",
    "        test_start = k * chunk_length\n",
    "        test_stop = (k + 1) * chunk_length\n",
    "\n",
    "        Z_test = Z[test_start: test_stop, :]\n",
    "        y_test = y[test_start: test_stop, :]\n",
    "\n",
    "        Z_train = np.vstack((Z[: test_start, :], Z[test_stop:, :]))\n",
    "        y_train = np.vstack((y[: test_start, :], y[test_stop:, :]))\n",
    "\n",
    "        w = model_fit(Z_train, y_train)\n",
    "\n",
    "        # w = Z_train \\ y_train\n",
    "\n",
    "        R_test = ((Z_test @ w - y_test) ** 2).mean()\n",
    "        R_cross_eval += R_test\n",
    "\n",
    "    mean_R = R_cross_eval / K\n",
    "    return mean_R"
   ]
  },
  {
   "cell_type": "markdown",
   "id": "a922152f",
   "metadata": {
    "pycharm": {
     "name": "#%% md\n"
    }
   },
   "source": [
    "### expand_basis"
   ]
  },
  {
   "cell_type": "code",
   "execution_count": null,
   "id": "698ecfe9",
   "metadata": {
    "pycharm": {
     "name": "#%%\n"
    }
   },
   "outputs": [],
   "source": [
    "def expand_basis(X, poly_deg, include_sin, include_log):\n",
    "    # Z = expand_poly(X, p)\n",
    "    feature_eng1 = PolynomialFeatures(degree=poly_deg)\n",
    "    feature_eng2 = FunctionTransformer(np.sin)\n",
    "    feature_eng3 = FunctionTransformer(lambda x: 1 + np.log(np.where(x < 0, 0, x) + 1))\n",
    "    \n",
    "    Z_ls = [feature_eng1.fit_transform(X)]\n",
    "    \n",
    "    if include_sin: \n",
    "#         Z_ls.append(feature_eng2.fit_transform(X))\n",
    "        Z_ls.append(np.sin(3 * X))\n",
    "        \n",
    "    \n",
    "    if include_log: \n",
    "#         Z_ls.append(feature_eng3.fit_transform(X))\n",
    "        Z_ls.append(1 + np.log(np.where(X < 0, 0, X) + 1))\n",
    "#         Z_ls.append(np.sin(X))\n",
    "\n",
    "        \n",
    "\n",
    "    Z = np.hstack(Z_ls)\n",
    "    return Z\n",
    "\n",
    "\n",
    "def expand_poly(X, p):\n",
    "    N, dim = X.shape\n",
    "    Z_ = np.zeros((N, (p + 1) * dim))\n",
    "\n",
    "    for i in range(p + 1):\n",
    "        Z_[:, i * dim: (i + 1) * dim] = X ** (i + 1)\n",
    "\n",
    "    Z = np.hstack([np.ones((N, 1)), Z_])\n",
    "    return Z\n"
   ]
  },
  {
   "cell_type": "markdown",
   "id": "e9a11c1b",
   "metadata": {
    "pycharm": {
     "name": "#%% md\n"
    }
   },
   "source": [
    "### basis_expansion_chooser"
   ]
  },
  {
   "cell_type": "code",
   "execution_count": null,
   "id": "170ea29e",
   "metadata": {
    "pycharm": {
     "name": "#%%\n"
    }
   },
   "outputs": [],
   "source": [
    "def basis_expansion_chooser(X, y):\n",
    "    least_R = np.inf\n",
    "    basis = 0\n",
    "\n",
    "    K = 5\n",
    "    \n",
    "    poly_deg_ls = range(1, 5)\n",
    "    include_sin_ls = [True, False]\n",
    "    include_log_ls = [True, False]\n",
    "    \n",
    "    for _basis in itertools.product(include_log_ls, include_sin_ls, poly_deg_ls): # only has polynomial expansion\n",
    "        Z = expand_basis(X, *_basis[::-1])\n",
    "        mean_R = cross_validation(Z, y, K)\n",
    "        \n",
    "        if mean_R < least_R:\n",
    "            least_R = mean_R\n",
    "            basis = _basis\n",
    "        \n",
    "        print(_basis, \"MSE: \", mean_R)\n",
    "    return basis"
   ]
  },
  {
   "cell_type": "markdown",
   "id": "c1837019",
   "metadata": {
    "pycharm": {
     "name": "#%% md\n"
    }
   },
   "source": [
    "### all_train_fit"
   ]
  },
  {
   "cell_type": "code",
   "execution_count": null,
   "id": "3caf4e37",
   "metadata": {
    "pycharm": {
     "name": "#%%\n"
    }
   },
   "outputs": [],
   "source": [
    "def all_train_fit(Xtrain, ytrain, basis):\n",
    "    Ztrain = expand_basis(Xtrain, *basis)\n",
    "    w = model_fit(Ztrain, ytrain)\n",
    "    return w"
   ]
  },
  {
   "cell_type": "markdown",
   "id": "09e123e4",
   "metadata": {
    "pycharm": {
     "name": "#%% md\n"
    }
   },
   "source": [
    "### predict"
   ]
  },
  {
   "cell_type": "code",
   "execution_count": null,
   "id": "a3b03ced",
   "metadata": {
    "pycharm": {
     "name": "#%%\n"
    }
   },
   "outputs": [],
   "source": [
    "def ls_predict(Xtest, w_ls, basis):\n",
    "    Ztest = expand_basis(Xtest, *basis)\n",
    "    ytest_preds = Ztest @ w_ls\n",
    "    return ytest_preds"
   ]
  },
  {
   "cell_type": "markdown",
   "id": "7c465edb",
   "metadata": {
    "pycharm": {
     "name": "#%% md\n"
    }
   },
   "source": [
    "### main"
   ]
  },
  {
   "cell_type": "code",
   "execution_count": null,
   "id": "eda651c2",
   "metadata": {
    "pycharm": {
     "name": "#%%\n"
    }
   },
   "outputs": [],
   "source": [
    "Xtrain, ytrain, Xtest = read_data()\n",
    "basis = basis_expansion_chooser(Xtrain, ytrain)\n",
    "w_ls = all_train_fit(Xtrain, ytrain, basis)\n",
    "ytest_preds = ls_predict(Xtest, w_ls, basis)\n",
    "\n",
    "print(\"Minimal MSE basis: \", basis)"
   ]
  },
  {
   "cell_type": "code",
   "execution_count": null,
   "id": "89e68da0",
   "metadata": {
    "pycharm": {
     "name": "#%%\n"
    }
   },
   "outputs": [],
   "source": []
  },
  {
   "cell_type": "code",
   "execution_count": null,
   "id": "4e4ab454",
   "metadata": {
    "pycharm": {
     "name": "#%%\n"
    }
   },
   "outputs": [],
   "source": []
  },
  {
   "cell_type": "code",
   "execution_count": null,
   "id": "a95bb6e9",
   "metadata": {
    "pycharm": {
     "name": "#%%\n"
    }
   },
   "outputs": [],
   "source": [
    "from sklearn.linear_model import LinearRegression\n",
    "from sklearn.metrics import mean_squared_error as mse"
   ]
  },
  {
   "cell_type": "code",
   "execution_count": null,
   "id": "3bd2bdf0",
   "metadata": {
    "pycharm": {
     "name": "#%%\n"
    }
   },
   "outputs": [],
   "source": [
    "mse(ytrain, ls_predict(Xtrain, w_ls, 1))"
   ]
  },
  {
   "cell_type": "code",
   "execution_count": null,
   "id": "4434cca0",
   "metadata": {
    "pycharm": {
     "name": "#%%\n"
    }
   },
   "outputs": [],
   "source": [
    "# mse(ytrain, ls_predict(Xtrain, all_train_fit(Xtrain, ytrain, 5), 5))\n",
    "\n",
    "# mse(ytrain, ls_predict(Xtrain, all_train_fit(Xtrain, ytrain, 2), 2))\n",
    "\n",
    "# mse(ytrain, ls_predict(Xtrain, all_train_fit(Xtrain, ytrain, 1), 1))\n",
    "\n",
    "# mse(ytrain, ls_predict(Xtrain, all_train_fit(Xtrain, ytrain, 3), 3))\n",
    "\n",
    "# mse(ytrain, ls_predict(Xtrain, all_train_fit(Xtrain, ytrain, 4), 4))"
   ]
  },
  {
   "cell_type": "code",
   "execution_count": null,
   "id": "83ae27d1",
   "metadata": {
    "pycharm": {
     "name": "#%%\n"
    }
   },
   "outputs": [],
   "source": []
  },
  {
   "cell_type": "markdown",
   "id": "f669488c",
   "metadata": {
    "pycharm": {
     "name": "#%% md\n"
    }
   },
   "source": [
    "### Sklearn"
   ]
  },
  {
   "cell_type": "code",
   "execution_count": null,
   "id": "5facf54f",
   "metadata": {
    "pycharm": {
     "name": "#%%\n"
    }
   },
   "outputs": [],
   "source": [
    "model = LinearRegression()\n",
    "model.fit(Xtrain, ytrain)\n",
    "ytest = model.predict(Xtest)"
   ]
  },
  {
   "cell_type": "code",
   "execution_count": null,
   "id": "b6ecd1b7",
   "metadata": {
    "pycharm": {
     "name": "#%%\n"
    }
   },
   "outputs": [],
   "source": [
    "ytrain_ = model.predict(Xtrain)"
   ]
  },
  {
   "cell_type": "code",
   "execution_count": null,
   "id": "5d096085",
   "metadata": {
    "pycharm": {
     "name": "#%%\n"
    }
   },
   "outputs": [],
   "source": [
    "mse(ytrain, ytrain_)"
   ]
  },
  {
   "cell_type": "code",
   "execution_count": null,
   "id": "fefe42d2",
   "metadata": {
    "pycharm": {
     "name": "#%%\n"
    }
   },
   "outputs": [],
   "source": [
    "from sklearn.model_selection import KFold"
   ]
  },
  {
   "cell_type": "code",
   "execution_count": null,
   "id": "f8e49dc1",
   "metadata": {
    "pycharm": {
     "name": "#%%\n"
    }
   },
   "outputs": [],
   "source": [
    "cv = KFold()"
   ]
  },
  {
   "cell_type": "code",
   "execution_count": null,
   "id": "d21a5706",
   "metadata": {
    "pycharm": {
     "name": "#%%\n"
    }
   },
   "outputs": [],
   "source": [
    "df_train = pd.read_csv(\"traindata.txt\", sep=\"   \", names=range(9), engine=\"python\")\n",
    "data_train = df_train.values"
   ]
  },
  {
   "cell_type": "code",
   "execution_count": null,
   "id": "b650cb7d",
   "metadata": {
    "pycharm": {
     "name": "#%%\n"
    }
   },
   "outputs": [],
   "source": [
    "for train_idx, test_idx in cv.split(data_train):\n",
    "    d_train = data_train[train_idx]\n",
    "    d_test = data_train[test_idx]\n",
    "    X_train, y_train = d_train[:, :-1], d_train[:, -1]\n",
    "    X_test, y_test = d_test[:, :-1], d_test[:, -1]\n",
    "    \n",
    "    model = LinearRegression()\n",
    "    model.fit(X_train, y_train)\n",
    "    \n",
    "    mse_train = mse(y_train, model.predict(X_train))\n",
    "    mse_test = mse(y_test, model.predict(X_test))\n",
    "    print(mse_train, mse_test)"
   ]
  },
  {
   "cell_type": "code",
   "execution_count": null,
   "id": "5a35cef1",
   "metadata": {
    "pycharm": {
     "name": "#%%\n"
    }
   },
   "outputs": [],
   "source": [
    "from sklearn.preprocessing import PolynomialFeatures, FunctionTransformer"
   ]
  },
  {
   "cell_type": "code",
   "execution_count": null,
   "id": "fa3177f8",
   "metadata": {
    "pycharm": {
     "name": "#%%\n"
    }
   },
   "outputs": [],
   "source": [
    "feature_eng1 = PolynomialFeatures(degree=2)\n",
    "feature_eng2 = FunctionTransformer(np.sin)\n",
    "feature_eng3 = FunctionTransformer(lambda x: np.log(x + 10))\n",
    "\n",
    "data_train1 = feature_eng1.fit_transform(data_train.copy()[:, :-1])\n",
    "data_train2 = feature_eng2.fit_transform(data_train1)\n",
    "# data_train3 = feature_eng2.fit_transform(data_train2)\n",
    "\n",
    "data_train3 = feature_eng3.fit_transform(data_train.copy()[:, :-1])\n",
    "\n",
    "data_train_ = np.hstack([\n",
    "    data_train1,\n",
    "    data_train2, \n",
    "    data_train3, \n",
    "    data_train[:, -1].reshape(-1, 1)])"
   ]
  },
  {
   "cell_type": "code",
   "execution_count": null,
   "id": "a34df118",
   "metadata": {
    "pycharm": {
     "name": "#%%\n"
    }
   },
   "outputs": [],
   "source": [
    "for train_idx, test_idx in cv.split(data_train_):\n",
    "    d_train = data_train_[train_idx]\n",
    "    d_test = data_train_[test_idx]\n",
    "    X_train, y_train = d_train[:, :-1], d_train[:, -1]\n",
    "    X_test, y_test = d_test[:, :-1], d_test[:, -1]\n",
    "    \n",
    "    model = LinearRegression()\n",
    "    model.fit(X_train, y_train)\n",
    "    \n",
    "    mse_train = mse(y_train, model.predict(X_train))\n",
    "    mse_test = mse(y_test, model.predict(X_test))\n",
    "    print(mse_train, mse_test)"
   ]
  },
  {
   "cell_type": "code",
   "execution_count": null,
   "id": "5c8f5fbd",
   "metadata": {
    "pycharm": {
     "name": "#%%\n"
    }
   },
   "outputs": [],
   "source": [
    "data_train1.shape"
   ]
  },
  {
   "cell_type": "code",
   "execution_count": null,
   "id": "cb9c701a",
   "metadata": {
    "pycharm": {
     "name": "#%%\n"
    }
   },
   "outputs": [],
   "source": [
    "data_train.shape"
   ]
  },
  {
   "cell_type": "code",
   "execution_count": null,
   "id": "90c672d8",
   "metadata": {
    "pycharm": {
     "name": "#%%\n"
    }
   },
   "outputs": [],
   "source": [
    "import math"
   ]
  },
  {
   "cell_type": "code",
   "execution_count": null,
   "id": "3473ce6e",
   "metadata": {
    "pycharm": {
     "name": "#%%\n"
    }
   },
   "outputs": [],
   "source": [
    "math.comb(5, 2)"
   ]
  },
  {
   "cell_type": "code",
   "execution_count": null,
   "id": "6e493069",
   "metadata": {
    "pycharm": {
     "name": "#%%\n"
    }
   },
   "outputs": [],
   "source": [
    "math.comb(3, 2) + math.comb(3, 1) + math.comb(3, 0)"
   ]
  },
  {
   "cell_type": "code",
   "execution_count": null,
   "id": "a99476b4",
   "metadata": {
    "pycharm": {
     "name": "#%%\n"
    }
   },
   "outputs": [],
   "source": [
    "3 * 3 - 3 * 2"
   ]
  },
  {
   "cell_type": "code",
   "execution_count": null,
   "id": "637b6e08",
   "metadata": {
    "pycharm": {
     "name": "#%%\n"
    }
   },
   "outputs": [],
   "source": []
  }
 ],
 "metadata": {
  "kernelspec": {
   "display_name": "Python 3 (ipykernel)",
   "language": "python",
   "name": "python3"
  },
  "language_info": {
   "codemirror_mode": {
    "name": "ipython",
    "version": 3
   },
   "file_extension": ".py",
   "mimetype": "text/x-python",
   "name": "python",
   "nbconvert_exporter": "python",
   "pygments_lexer": "ipython3",
   "version": "3.8.13"
  }
 },
 "nbformat": 4,
 "nbformat_minor": 5
}