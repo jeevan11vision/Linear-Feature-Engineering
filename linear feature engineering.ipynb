{
 "cells": [
  {
   "cell_type": "code",
   "execution_count": 1,
   "id": "8ff6ba32",
   "metadata": {
    "pycharm": {
     "name": "#%%\n"
    }
   },
   "outputs": [],
   "source": [
    "import itertools\n",
    "\n",
    "import numpy as np\n",
    "import pandas as pd\n",
    "\n",
    "from sklearn.preprocessing import PolynomialFeatures"
   ]
  },
  {
   "cell_type": "markdown",
   "source": [
    "### expand_basis"
   ],
   "metadata": {
    "collapsed": false,
    "pycharm": {
     "name": "#%% md\n"
    }
   }
  },
  {
   "cell_type": "code",
   "execution_count": null,
   "outputs": [],
   "source": [
    "\n",
    "def expand_basis(X, poly_deg, include_sin, include_log):\n",
    "    \"\"\" Expands basis with polynomial, sine and logarithm functions\n",
    "\n",
    "    Args:\n",
    "        X (np.ndarray):\n",
    "        poly_deg (int): Degree for polynomial expansion.\n",
    "        include_sin  (bool): Includes sine features if True else not.\n",
    "        include_log (bool): Includes log features if True else not.\n",
    "\n",
    "    Returns:\n",
    "        np.ndarray: Expanded feature vector of shape (N, D').\n",
    "    \"\"\"\n",
    "    # Z = expand_poly(X, p)\n",
    "    poly_expansion = PolynomialFeatures(degree=poly_deg)\n",
    "\n",
    "    Z_ls = [poly_expansion.fit_transform(X)]\n",
    "\n",
    "    if include_sin:\n",
    "        Z_ls.append(np.sin(3 * X))\n",
    "\n",
    "    if include_log:\n",
    "        Z_ls.append(1 + np.log(np.where(X < 0, 0, X) + 1))\n",
    "\n",
    "    Z = np.hstack(Z_ls)\n",
    "    return Z\n",
    "\n",
    "\n",
    "def expand_poly(X, p):\n",
    "    \"\"\" Expands the polynomial basis of the input data\n",
    "\n",
    "    Args:\n",
    "        X (np.ndarray): Input data of shape (N, D).\n",
    "        p (int): Polynomial Degree\n",
    "\n",
    "    Returns:\n",
    "        (np.ndarray): Expanded polynomial features.\n",
    "    \"\"\"\n",
    "    N, dim = X.shape\n",
    "    Z_ = np.zeros((N, (p + 1) * dim))\n",
    "\n",
    "    for i in range(p + 1):\n",
    "        Z_[:, i * dim: (i + 1) * dim] = X ** (i + 1)\n",
    "\n",
    "    Z = np.hstack([np.ones((N, 1)), Z_])\n",
    "    return Z\n"
   ],
   "metadata": {
    "collapsed": false,
    "pycharm": {
     "name": "#%%\n"
    }
   }
  },
  {
   "cell_type": "markdown",
   "source": [
    "### Utils"
   ],
   "metadata": {
    "collapsed": false,
    "pycharm": {
     "name": "#%% md\n"
    }
   }
  },
  {
   "cell_type": "code",
   "execution_count": null,
   "outputs": [],
   "source": [
    "\n",
    "def read_data():\n",
    "    \"\"\" Reads the data for training and test\n",
    "\n",
    "    It extracts training data inputs and labels from `traindata.txt` and test data inputs\n",
    "    from `testinputs.txt`.\n",
    "\n",
    "    Returns:\n",
    "        np.ndarray: Input training data of shape (N, D).\n",
    "        np.ndarray: Training data labels of shape (N, 1).\n",
    "        np.ndarray: Input test data of shape (N', D).\n",
    "\n",
    "    \"\"\"\n",
    "    df_train = pd.read_csv(\"traindata.txt\", sep=\"   \", names=range(9), engine=\"python\")\n",
    "\n",
    "    df_train = df_train.sample(len(df_train))\n",
    "\n",
    "    X_train = df_train.iloc[:, :-1].values\n",
    "    y_train = df_train.iloc[:, -1].values.reshape(-1, 1)\n",
    "\n",
    "    X_test = pd.read_csv(\"testinputs.txt\", sep=\"   \", names=range(8), engine=\"python\").values\n",
    "    return X_train, y_train, X_test\n",
    "\n",
    "\n",
    "def model_fit(Z, y):\n",
    "    \"\"\" Fits Linear Regression model on the data\n",
    "\n",
    "    Args:\n",
    "        Z (np.ndarray): Feature engineered inputs of shape (N, D').\n",
    "        y (np.ndarray): Corresponding data labels of shape (N, 1).\n",
    "\n",
    "    Returns:\n",
    "        np.ndarray: Weight for fitted linear regression model of shape (D', 1).\n",
    "\n",
    "    \"\"\"\n",
    "    w = np.linalg.inv(Z.T @ Z) @ (Z.T @ y)\n",
    "    # w = np.linalg.lstsq(Z.T @ Z, (Z.T @ y), rcond=None)\n",
    "    return w\n",
    "\n",
    "\n",
    "def all_train_fit(Xtrain, ytrain, basis):\n",
    "    \"\"\" Trains Linear Regression model of the basis on the whole training data\n",
    "\n",
    "    Args:\n",
    "        Xtrain: Input training data of shape (N, D).\n",
    "        ytrain: Corresponding data labels of shape (N, 1).\n",
    "        basis: Basis with the least cross validation MSE loss with values (poly_degree, include_sin, include_log).\n",
    "\n",
    "    Returns:\n",
    "        np.ndarray: Weight for fitted linear regression model of shape (D', 1).\n",
    "\n",
    "    \"\"\"\n",
    "    Ztrain = expand_basis(Xtrain, *basis)\n",
    "    w = model_fit(Ztrain, ytrain)\n",
    "    return w\n",
    "\n",
    "\n",
    "def model_predict(Xtest, w_ls, basis):\n",
    "    \"\"\" Runs model prediction on test data with the fitted linear regression weight\n",
    "\n",
    "    Args:\n",
    "        Xtest: Input test data of shape (N, D).\n",
    "        w_ls: Weight for fitted linear regression model of shape (D', 1).\n",
    "        basis: Basis with the least cross validation MSE loss with values (poly_degree, include_sin, include_log).\n",
    "\n",
    "    Returns:\n",
    "        np.ndarray: Labels predicted by the linear regerssion model on test data.\n",
    "\n",
    "    \"\"\"\n",
    "    Ztest = expand_basis(Xtest, *basis)\n",
    "    ytest_preds = Ztest @ w_ls\n",
    "    return ytest_preds\n",
    "\n",
    "\n",
    "def mse(y_true, y_pred):\n",
    "    \"\"\" (float) Computes MSE loss between true and prediction values \"\"\"\n",
    "    return ((y_true - y_pred) ** 2).mean()"
   ],
   "metadata": {
    "collapsed": false,
    "pycharm": {
     "name": "#%%\n"
    }
   }
  },
  {
   "cell_type": "markdown",
   "source": [
    "### cross validation"
   ],
   "metadata": {
    "collapsed": false,
    "pycharm": {
     "name": "#%% md\n"
    }
   }
  },
  {
   "cell_type": "code",
   "execution_count": null,
   "outputs": [],
   "source": [
    "\n",
    "def cross_validation(Z, y, K):\n",
    "    \"\"\" Applies cross validation to the data\n",
    "\n",
    "    This module applies K-fold cross validation on the input data to avoid over-fitting on the data.\n",
    "    It includes a parameter `K`, which is the number of folds to experiment on.\n",
    "\n",
    "    Args:\n",
    "        Z (np.ndarray): Feature engineered data of shape (N, D').\n",
    "        y (np.ndarray): Regression labels array of shape (N, 1) .\n",
    "        K (int): Number of folds to run cross validation on.\n",
    "\n",
    "    Returns:\n",
    "        float: mean MSE error for cross validation.\n",
    "    \"\"\"\n",
    "    chunk_length = len(Z) // K\n",
    "\n",
    "    sum_cross_val_loss = 0\n",
    "\n",
    "    for k in range(K):\n",
    "        test_start = k * chunk_length\n",
    "        test_stop = (k + 1) * chunk_length\n",
    "\n",
    "        Z_test = Z[test_start: test_stop, :]\n",
    "        y_test = y[test_start: test_stop, :]\n",
    "\n",
    "        Z_train = np.vstack((Z[: test_start, :], Z[test_stop:, :]))\n",
    "        y_train = np.vstack((y[: test_start, :], y[test_stop:, :]))\n",
    "\n",
    "        w = model_fit(Z_train, y_train)\n",
    "\n",
    "        y_test_preds = Z_test @ w\n",
    "        mse_test = mse(y_test, y_test_preds)\n",
    "        sum_cross_val_loss += mse_test\n",
    "\n",
    "    mean_cross_val_loss = sum_cross_val_loss / K\n",
    "    return mean_cross_val_loss\n"
   ],
   "metadata": {
    "collapsed": false,
    "pycharm": {
     "name": "#%%\n"
    }
   }
  },
  {
   "cell_type": "markdown",
   "source": [
    "### basis_expansion_chooser"
   ],
   "metadata": {
    "collapsed": false,
    "pycharm": {
     "name": "#%% md\n"
    }
   }
  },
  {
   "cell_type": "code",
   "execution_count": null,
   "outputs": [],
   "source": [
    "\n",
    "def basis_expansion_chooser(X, y):\n",
    "    \"\"\" Chooses basis on the based of cross validation error\n",
    "\n",
    "    Args:\n",
    "        X (np.ndarray): Input training data of shape (N, D).\n",
    "        y (np.ndarray): Training data labels of shape (N, 1).\n",
    "\n",
    "    Returns:\n",
    "        tuple: Basis with the least cross validation MSE loss with values\n",
    "        (poly_degree, include_sin, include_log).\n",
    "    \"\"\"\n",
    "    least_R = np.inf\n",
    "    basis = 0\n",
    "\n",
    "    K = 5\n",
    "\n",
    "    poly_deg_ls = range(1, 5)\n",
    "    include_sin_ls = [True, False]\n",
    "    include_log_ls = [True, False]\n",
    "\n",
    "    for _basis in itertools.product(include_log_ls, include_sin_ls, poly_deg_ls):  # only has polynomial expansion\n",
    "        Z = expand_basis(X, *_basis[::-1])\n",
    "        mean_R = cross_validation(Z, y, K)\n",
    "\n",
    "        if mean_R < least_R:\n",
    "            least_R = mean_R\n",
    "            basis = _basis\n",
    "\n",
    "        print(_basis, \"MSE: \", mean_R)\n",
    "    print(f\"Minimal MSE basis: {basis} Least MSE Loss: {least_R}\")\n",
    "    return basis\n"
   ],
   "metadata": {
    "collapsed": false,
    "pycharm": {
     "name": "#%%\n"
    }
   }
  },
  {
   "cell_type": "code",
   "execution_count": 19,
   "id": "393ed1d9",
   "metadata": {
    "pycharm": {
     "name": "#%%\n"
    }
   },
   "outputs": [
    {
     "data": {
      "text/plain": [
       "43.12106775016496"
      ]
     },
     "execution_count": 19,
     "metadata": {},
     "output_type": "execute_result"
    }
   ],
   "source": [
    "((ytrain - ls_predict(Xtrain, w_ls, basis)) ** 2).mean()"
   ]
  },
  {
   "cell_type": "code",
   "execution_count": 18,
   "id": "3bd2bdf0",
   "metadata": {
    "pycharm": {
     "name": "#%%\n"
    }
   },
   "outputs": [
    {
     "data": {
      "text/plain": [
       "43.12106775016496"
      ]
     },
     "execution_count": 18,
     "metadata": {},
     "output_type": "execute_result"
    }
   ],
   "source": [
    "mse(ytrain, ls_predict(Xtrain, w_ls, basis))"
   ]
  },
  {
   "cell_type": "code",
   "execution_count": null,
   "id": "4434cca0",
   "metadata": {
    "pycharm": {
     "name": "#%%\n"
    }
   },
   "outputs": [],
   "source": [
    "# mse(ytrain, ls_predict(Xtrain, all_train_fit(Xtrain, ytrain, 5), 5))\n",
    "\n",
    "# mse(ytrain, ls_predict(Xtrain, all_train_fit(Xtrain, ytrain, 2), 2))\n",
    "\n",
    "# mse(ytrain, ls_predict(Xtrain, all_train_fit(Xtrain, ytrain, 1), 1))\n",
    "\n",
    "# mse(ytrain, ls_predict(Xtrain, all_train_fit(Xtrain, ytrain, 3), 3))\n",
    "\n",
    "# mse(ytrain, ls_predict(Xtrain, all_train_fit(Xtrain, ytrain, 4), 4))"
   ]
  },
  {
   "cell_type": "code",
   "execution_count": null,
   "id": "83ae27d1",
   "metadata": {
    "pycharm": {
     "name": "#%%\n"
    }
   },
   "outputs": [],
   "source": []
  },
  {
   "cell_type": "markdown",
   "id": "f669488c",
   "metadata": {
    "pycharm": {
     "name": "#%% md\n"
    }
   },
   "source": [
    "### Sklearn"
   ]
  },
  {
   "cell_type": "code",
   "execution_count": null,
   "id": "5facf54f",
   "metadata": {
    "pycharm": {
     "name": "#%%\n"
    }
   },
   "outputs": [],
   "source": [
    "model = LinearRegression()\n",
    "model.fit(Xtrain, ytrain)\n",
    "ytest = model.predict(Xtest)"
   ]
  },
  {
   "cell_type": "code",
   "execution_count": null,
   "id": "b6ecd1b7",
   "metadata": {
    "pycharm": {
     "name": "#%%\n"
    }
   },
   "outputs": [],
   "source": [
    "ytrain_ = model.predict(Xtrain)"
   ]
  },
  {
   "cell_type": "code",
   "execution_count": null,
   "id": "5d096085",
   "metadata": {
    "pycharm": {
     "name": "#%%\n"
    }
   },
   "outputs": [],
   "source": [
    "mse(ytrain, ytrain_)"
   ]
  },
  {
   "cell_type": "code",
   "execution_count": null,
   "id": "fefe42d2",
   "metadata": {
    "pycharm": {
     "name": "#%%\n"
    }
   },
   "outputs": [],
   "source": [
    "from sklearn.model_selection import KFold"
   ]
  },
  {
   "cell_type": "code",
   "execution_count": null,
   "id": "f8e49dc1",
   "metadata": {
    "pycharm": {
     "name": "#%%\n"
    }
   },
   "outputs": [],
   "source": [
    "cv = KFold()"
   ]
  },
  {
   "cell_type": "code",
   "execution_count": null,
   "id": "d21a5706",
   "metadata": {
    "pycharm": {
     "name": "#%%\n"
    }
   },
   "outputs": [],
   "source": [
    "df_train = pd.read_csv(\"traindata.txt\", sep=\"   \", names=range(9), engine=\"python\")\n",
    "data_train = df_train.values"
   ]
  },
  {
   "cell_type": "code",
   "execution_count": null,
   "id": "b650cb7d",
   "metadata": {
    "pycharm": {
     "name": "#%%\n"
    }
   },
   "outputs": [],
   "source": [
    "for train_idx, test_idx in cv.split(data_train):\n",
    "    d_train = data_train[train_idx]\n",
    "    d_test = data_train[test_idx]\n",
    "    X_train, y_train = d_train[:, :-1], d_train[:, -1]\n",
    "    X_test, y_test = d_test[:, :-1], d_test[:, -1]\n",
    "    \n",
    "    model = LinearRegression()\n",
    "    model.fit(X_train, y_train)\n",
    "    \n",
    "    mse_train = mse(y_train, model.predict(X_train))\n",
    "    mse_test = mse(y_test, model.predict(X_test))\n",
    "    print(mse_train, mse_test)"
   ]
  },
  {
   "cell_type": "code",
   "execution_count": null,
   "id": "5a35cef1",
   "metadata": {
    "pycharm": {
     "name": "#%%\n"
    }
   },
   "outputs": [],
   "source": [
    "from sklearn.preprocessing import PolynomialFeatures, FunctionTransformer"
   ]
  },
  {
   "cell_type": "code",
   "execution_count": null,
   "id": "fa3177f8",
   "metadata": {
    "pycharm": {
     "name": "#%%\n"
    }
   },
   "outputs": [],
   "source": [
    "feature_eng1 = PolynomialFeatures(degree=2)\n",
    "feature_eng2 = FunctionTransformer(np.sin)\n",
    "feature_eng3 = FunctionTransformer(lambda x: np.log(x + 10))\n",
    "\n",
    "data_train1 = feature_eng1.fit_transform(data_train.copy()[:, :-1])\n",
    "data_train2 = feature_eng2.fit_transform(data_train1)\n",
    "# data_train3 = feature_eng2.fit_transform(data_train2)\n",
    "\n",
    "data_train3 = feature_eng3.fit_transform(data_train.copy()[:, :-1])\n",
    "\n",
    "data_train_ = np.hstack([\n",
    "    data_train1,\n",
    "    data_train2, \n",
    "    data_train3, \n",
    "    data_train[:, -1].reshape(-1, 1)])"
   ]
  },
  {
   "cell_type": "code",
   "execution_count": null,
   "id": "a34df118",
   "metadata": {
    "pycharm": {
     "name": "#%%\n"
    }
   },
   "outputs": [],
   "source": [
    "for train_idx, test_idx in cv.split(data_train_):\n",
    "    d_train = data_train_[train_idx]\n",
    "    d_test = data_train_[test_idx]\n",
    "    X_train, y_train = d_train[:, :-1], d_train[:, -1]\n",
    "    X_test, y_test = d_test[:, :-1], d_test[:, -1]\n",
    "    \n",
    "    model = LinearRegression()\n",
    "    model.fit(X_train, y_train)\n",
    "    \n",
    "    mse_train = mse(y_train, model.predict(X_train))\n",
    "    mse_test = mse(y_test, model.predict(X_test))\n",
    "    print(mse_train, mse_test)"
   ]
  },
  {
   "cell_type": "code",
   "execution_count": null,
   "id": "5c8f5fbd",
   "metadata": {
    "pycharm": {
     "name": "#%%\n"
    }
   },
   "outputs": [],
   "source": [
    "data_train1.shape"
   ]
  },
  {
   "cell_type": "code",
   "execution_count": null,
   "id": "cb9c701a",
   "metadata": {
    "pycharm": {
     "name": "#%%\n"
    }
   },
   "outputs": [],
   "source": [
    "data_train.shape"
   ]
  },
  {
   "cell_type": "code",
   "execution_count": null,
   "id": "90c672d8",
   "metadata": {
    "pycharm": {
     "name": "#%%\n"
    }
   },
   "outputs": [],
   "source": [
    "import math"
   ]
  },
  {
   "cell_type": "code",
   "execution_count": null,
   "id": "3473ce6e",
   "metadata": {
    "pycharm": {
     "name": "#%%\n"
    }
   },
   "outputs": [],
   "source": [
    "math.comb(5, 2)"
   ]
  },
  {
   "cell_type": "code",
   "execution_count": null,
   "id": "6e493069",
   "metadata": {
    "pycharm": {
     "name": "#%%\n"
    }
   },
   "outputs": [],
   "source": [
    "math.comb(3, 2) + math.comb(3, 1) + math.comb(3, 0)"
   ]
  },
  {
   "cell_type": "code",
   "execution_count": null,
   "id": "a99476b4",
   "metadata": {
    "pycharm": {
     "name": "#%%\n"
    }
   },
   "outputs": [],
   "source": [
    "3 * 3 - 3 * 2"
   ]
  },
  {
   "cell_type": "code",
   "execution_count": null,
   "id": "637b6e08",
   "metadata": {
    "pycharm": {
     "name": "#%%\n"
    }
   },
   "outputs": [],
   "source": []
  }
 ],
 "metadata": {
  "kernelspec": {
   "display_name": "Python 3 (ipykernel)",
   "language": "python",
   "name": "python3"
  },
  "language_info": {
   "codemirror_mode": {
    "name": "ipython",
    "version": 3
   },
   "file_extension": ".py",
   "mimetype": "text/x-python",
   "name": "python",
   "nbconvert_exporter": "python",
   "pygments_lexer": "ipython3",
   "version": "3.8.13"
  }
 },
 "nbformat": 4,
 "nbformat_minor": 5
}